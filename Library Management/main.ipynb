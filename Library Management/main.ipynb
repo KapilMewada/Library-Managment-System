{
 "cells": [
  {
   "cell_type": "code",
   "execution_count": null,
   "metadata": {},
   "outputs": [
    {
     "name": "stdout",
     "output_type": "stream",
     "text": [
      "Enter the user :student\n",
      "====================\n",
      "\n",
      "Welcom to the Library:\n",
      "\n",
      "Press 1 to Issue Book\n",
      "Press 2 to Return Book\n",
      "Press 3 to Calculate Fine\n",
      "Press 4 to EXIT\n",
      "====================\n",
      "Enter the choice3\n"
     ]
    }
   ],
   "source": [
    "from book import *\n",
    "from user import *\n",
    "import function as f\n",
    "\n",
    "def teacher_menu():\n",
    "    print(\"==\"*10)\n",
    "    print(\"\\nWelcom to the Library:\")\n",
    "    while True:\n",
    "        print(\"\\nPress 1 to Issue Book\\nPress 2 to Return Book\\nPress 3 to EXIT\")\n",
    "        print(\"==\"*10)\n",
    "        temp=int(input(\"Enter the choice\"))\n",
    "        if temp==1:\n",
    "            f.issue_teacher()\n",
    "        if temp==2:\n",
    "            f.return_teacher()\n",
    "        if temp==3:\n",
    "            break\n",
    "def user_menu():\n",
    "    print(\"==\"*10)\n",
    "    print(\"\\nWelcom to the Library:\")\n",
    "    while True:\n",
    "        print(\"\\nPress 1 to Issue Book\\nPress 2 to Return Book\\nPress 3 to Calculate Fine\\nPress 4 to EXIT\")\n",
    "        print(\"==\"*10)\n",
    "        temp=int(input(\"Enter the choice\"))\n",
    "        if temp==1:\n",
    "            f.issue()\n",
    "        if temp==2:\n",
    "            f.return_student()\n",
    "        if temp==3:\n",
    "            f.fine()\n",
    "        if temp==4:\n",
    "            break\n",
    "    \n",
    "def admin_menu():\n",
    "    while True:\n",
    "        print(\"==\"*10)\n",
    "        print(\"\\nWelcome To the Library:\\nPress 1. To add Student\\nPress 2. To add Teacher\\nPress 3.To Add Book\")\n",
    "        print(\"Press 4.To show All Books\\nPress 5.To Show Students\\nPress 6.To Show Teachers\\nPress 7.To Logout\")\n",
    "        print(\"==\"*10)\n",
    "        temp=int(input(\"Enter the Choice\"))\n",
    "        if temp==1:\n",
    "            f.add_student()\n",
    "        elif temp==2:\n",
    "            f.add_teacher()\n",
    "        elif temp==3:\n",
    "            f.add_book()\n",
    "        elif temp==4:\n",
    "            f.load_book()\n",
    "        elif temp==5:\n",
    "            f.load_student()\n",
    "        elif temp==6:\n",
    "            f.load_teacher()\n",
    "        elif temp==7:\n",
    "            break\n",
    "u=user()\n",
    "user=input(\"Enter the user :\")\n",
    "if user=='student':\n",
    "    user_menu()\n",
    "elif user =='teacher':\n",
    "    teacher_menu()\n",
    "elif user =='admin':\n",
    "    while(1):\n",
    "        if u.admin():\n",
    "            admin_menu()\n",
    "            break\n",
    "        else:\n",
    "            print(\"Please enter Write password\")\n",
    "else:\n",
    "    print(\"enter correct choice\")\n"
   ]
  },
  {
   "cell_type": "code",
   "execution_count": 32,
   "metadata": {},
   "outputs": [
    {
     "name": "stdout",
     "output_type": "stream",
     "text": [
      "[1, [2], 2, [3]]\n"
     ]
    },
    {
     "data": {
      "text/plain": [
       "3"
      ]
     },
     "execution_count": 32,
     "metadata": {},
     "output_type": "execute_result"
    }
   ],
   "source": [
    "l=[]\n",
    "l=[1,[2,]]\n",
    "l.append(2)\n",
    "l.append([3])\n",
    "print(l)\n",
    "l[3][0]"
   ]
  },
  {
   "cell_type": "code",
   "execution_count": 26,
   "metadata": {},
   "outputs": [
    {
     "data": {
      "text/plain": [
       "2"
      ]
     },
     "execution_count": 26,
     "metadata": {},
     "output_type": "execute_result"
    }
   ],
   "source": [
    "d={}\n",
    "d[1]=2\n",
    "d[2]=2\n",
    "d[2]"
   ]
  },
  {
   "cell_type": "code",
   "execution_count": null,
   "metadata": {},
   "outputs": [],
   "source": []
  },
  {
   "cell_type": "code",
   "execution_count": null,
   "metadata": {},
   "outputs": [],
   "source": []
  },
  {
   "cell_type": "code",
   "execution_count": null,
   "metadata": {},
   "outputs": [],
   "source": []
  },
  {
   "cell_type": "code",
   "execution_count": null,
   "metadata": {},
   "outputs": [],
   "source": []
  },
  {
   "cell_type": "code",
   "execution_count": null,
   "metadata": {},
   "outputs": [],
   "source": []
  },
  {
   "cell_type": "code",
   "execution_count": null,
   "metadata": {},
   "outputs": [],
   "source": []
  }
 ],
 "metadata": {
  "kernelspec": {
   "display_name": "Python 3",
   "language": "python",
   "name": "python3"
  },
  "language_info": {
   "codemirror_mode": {
    "name": "ipython",
    "version": 3
   },
   "file_extension": ".py",
   "mimetype": "text/x-python",
   "name": "python",
   "nbconvert_exporter": "python",
   "pygments_lexer": "ipython3",
   "version": "3.7.1"
  }
 },
 "nbformat": 4,
 "nbformat_minor": 2
}
